{
  "nbformat": 4,
  "nbformat_minor": 0,
  "metadata": {
    "colab": {
      "provenance": [],
      "authorship_tag": "ABX9TyN5BAGCzFYjobSFM1pOW1OW",
      "include_colab_link": true
    },
    "kernelspec": {
      "name": "python3",
      "display_name": "Python 3"
    },
    "language_info": {
      "name": "python"
    }
  },
  "cells": [
    {
      "cell_type": "markdown",
      "metadata": {
        "id": "view-in-github",
        "colab_type": "text"
      },
      "source": [
        "<a href=\"https://colab.research.google.com/github/ARPIT-SINGHAL-22102003/DATA_SCIENCE/blob/main/Data_Science.ipynb\" target=\"_parent\"><img src=\"https://colab.research.google.com/assets/colab-badge.svg\" alt=\"Open In Colab\"/></a>"
      ]
    },
    {
      "cell_type": "markdown",
      "source": [
        "# **IMPORTRING NUMPY**"
      ],
      "metadata": {
        "id": "75ZK3hgd6c-t"
      }
    },
    {
      "cell_type": "code",
      "execution_count": 1,
      "metadata": {
        "id": "K5idmsUe6D4M"
      },
      "outputs": [],
      "source": [
        "import numpy as np"
      ]
    },
    {
      "cell_type": "markdown",
      "source": [
        "# **NUMPY CREATING ARRAYS**"
      ],
      "metadata": {
        "id": "_6lDPo406NdG"
      }
    },
    {
      "cell_type": "code",
      "source": [
        "# Using Numpy Function\n",
        "\n",
        "# 1-D Array\n",
        "\n",
        "array = np.arange(20)\n",
        "print(array)\n",
        "\n",
        "print(array.shape) # to check the dimensions of array\n",
        "\n",
        "\n",
        "# 2D array\n",
        "\n",
        "array_1 = np.arange(20).reshape(10,2)\n",
        "print(array_1)\n"
      ],
      "metadata": {
        "colab": {
          "base_uri": "https://localhost:8080/"
        },
        "id": "dnmMxoxu6a6j",
        "outputId": "10063d82-e8c4-4d7d-a6b9-cd992f33c7ae"
      },
      "execution_count": 9,
      "outputs": [
        {
          "output_type": "stream",
          "name": "stdout",
          "text": [
            "[ 0  1  2  3  4  5  6  7  8  9 10 11 12 13 14 15 16 17 18 19]\n",
            "(20,)\n",
            "[[ 0  1]\n",
            " [ 2  3]\n",
            " [ 4  5]\n",
            " [ 6  7]\n",
            " [ 8  9]\n",
            " [10 11]\n",
            " [12 13]\n",
            " [14 15]\n",
            " [16 17]\n",
            " [18 19]]\n"
          ]
        }
      ]
    },
    {
      "cell_type": "code",
      "source": [
        "# Conversions from python structures like list\n",
        "array = np.array([4,5,6])\n",
        "print(array)\n",
        "\n",
        "list = [4,5,6]\n",
        "print(list)"
      ],
      "metadata": {
        "colab": {
          "base_uri": "https://localhost:8080/"
        },
        "id": "W94RJY2o8ezt",
        "outputId": "b9247943-28e2-4185-c560-5c1475637a4c"
      },
      "execution_count": 11,
      "outputs": [
        {
          "output_type": "stream",
          "name": "stdout",
          "text": [
            "[4 5 6]\n",
            "[4, 5, 6]\n"
          ]
        }
      ]
    },
    {
      "cell_type": "code",
      "source": [
        "# Using library functions\n",
        "\n",
        "np.zeros((2,4))\n",
        "np.ones((3,6))\n",
        "np.full((2,2),3)"
      ],
      "metadata": {
        "colab": {
          "base_uri": "https://localhost:8080/"
        },
        "id": "Y6sd5VLD9IFx",
        "outputId": "312f436d-4339-44f3-de48-30e5e1cd8ef5"
      },
      "execution_count": 17,
      "outputs": [
        {
          "output_type": "execute_result",
          "data": {
            "text/plain": [
              "array([[3, 3],\n",
              "       [3, 3]])"
            ]
          },
          "metadata": {},
          "execution_count": 17
        }
      ]
    },
    {
      "cell_type": "code",
      "source": [
        "# Array with Ndarray\n",
        "\n",
        "# 0d array\n",
        "\n",
        "arr = np.array(42)\n",
        "print(arr)\n",
        "\n",
        "# 1d array\n",
        "print(\"---------------------------------------------------\")\n",
        "\n",
        "\n",
        "arr_1 = np.array([1, 2, 3, 4, 5])\n",
        "print(arr_1)\n",
        "\n",
        "# 2d array\n",
        "print(\"---------------------------------------------------\")\n",
        "\n",
        "arr_2 = np.array([[1, 2, 3], [4, 5, 6]])\n",
        "print(arr_2)\n",
        "\n",
        "# 3d array\n",
        "print(\"---------------------------------------------------\")\n",
        "\n",
        "arr_3 = np.array([[[1, 2, 3], [4, 5, 6]], [[1, 2, 3], [4, 5, 6]]])\n",
        "print(arr_3)\n",
        "\n",
        "# Higher Dimensional array\n",
        "\n",
        "print(\"---------------------------------------------------\")\n",
        "\n",
        "arr_n = np.array([1, 2, 3, 4], ndmin=9)\n",
        "print(arr_n)"
      ],
      "metadata": {
        "colab": {
          "base_uri": "https://localhost:8080/"
        },
        "id": "YG58lfCl9XvN",
        "outputId": "3f1443d6-d254-431e-e8c1-297ba0be6641"
      },
      "execution_count": 28,
      "outputs": [
        {
          "output_type": "stream",
          "name": "stdout",
          "text": [
            "42\n",
            "---------------------------------------------------\n",
            "[1 2 3 4 5]\n",
            "---------------------------------------------------\n",
            "[[1 2 3]\n",
            " [4 5 6]]\n",
            "---------------------------------------------------\n",
            "[[[1 2 3]\n",
            "  [4 5 6]]\n",
            "\n",
            " [[1 2 3]\n",
            "  [4 5 6]]]\n",
            "---------------------------------------------------\n",
            "[[[[[[[[[1 2 3 4]]]]]]]]]\n"
          ]
        }
      ]
    },
    {
      "cell_type": "markdown",
      "source": [
        "# **NUMPY ARRAY ATTRIBUTES**"
      ],
      "metadata": {
        "id": "hiuWYitEBBmq"
      }
    },
    {
      "cell_type": "code",
      "source": [
        "# ndim: returns number of dimension of the array\n",
        "# size: returns number of elements in the array\n",
        "# dtype: returns data type of elements in the array\n",
        "# shape: returns the size of the array in each dimension.\n",
        "# itemsize: returns the size (in bytes) of each elements in the array\n",
        "# data: returns the buffer containing actual elements of the array in memory"
      ],
      "metadata": {
        "id": "CogUe0mOBIX_"
      },
      "execution_count": 29,
      "outputs": []
    }
  ]
}